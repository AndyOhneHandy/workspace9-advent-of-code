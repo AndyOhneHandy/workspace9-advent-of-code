{
 "cells": [
  {
   "cell_type": "code",
   "execution_count": 21,
   "metadata": {},
   "outputs": [],
   "source": [
    "with open('data.txt', 'r') as file:\n",
    "    data = file.read().replace('\\n', ',')\n",
    "\n",
    "data = data.split(\",\")\n",
    "data.remove(\"\")"
   ]
  },
  {
   "cell_type": "code",
   "execution_count": 19,
   "metadata": {},
   "outputs": [
    {
     "name": "stdout",
     "output_type": "stream",
     "text": [
      "Horizontal pos: 1817; depth: 1072\n",
      "1947824\n"
     ]
    }
   ],
   "source": [
    "# Part 1\n",
    "depth = 0\n",
    "forward = 0\n",
    "i = 0\n",
    "length = len(data)\n",
    "\n",
    "while i < length:\n",
    "    observe = data[i].split(\" \")\n",
    "    if observe[0] == \"forward\":\n",
    "        forward += int(observe[1])\n",
    "    if observe[0] == \"down\":\n",
    "        depth += int(observe[1])\n",
    "    if observe[0] == \"up\":\n",
    "        depth -= int(observe[1])\n",
    "    i+=1\n",
    "\n",
    "print(f\"Horizontal pos: {forward}; depth: {depth}\")\n",
    "print(forward * depth)"
   ]
  },
  {
   "cell_type": "code",
   "execution_count": 23,
   "metadata": {},
   "outputs": [
    {
     "name": "stdout",
     "output_type": "stream",
     "text": [
      "Horizontal pos: 1817; depth: 997833\n",
      "1813062561\n"
     ]
    }
   ],
   "source": [
    "# Part 2\n",
    "depth2 = 0\n",
    "forward2 = 0\n",
    "aim = 0\n",
    "i = 0\n",
    "\n",
    "while i < length:\n",
    "    observe = data[i].split(\" \")\n",
    "    if observe[0] == \"forward\":\n",
    "        forward2 += int(observe[1])\n",
    "        depth2 += aim * int(observe[1])\n",
    "    if observe[0] == \"down\":\n",
    "        aim += int(observe[1])\n",
    "    if observe[0] == \"up\":\n",
    "        aim -= int(observe[1])\n",
    "    i+=1\n",
    "\n",
    "print(f\"Horizontal pos: {forward2}; depth: {depth2}\")\n",
    "print(forward2 * depth2)"
   ]
  }
 ],
 "metadata": {
  "interpreter": {
   "hash": "916dbcbb3f70747c44a77c7bcd40155683ae19c65e1c03b4aa3499c5328201f1"
  },
  "kernelspec": {
   "display_name": "Python 3.8.10 64-bit",
   "language": "python",
   "name": "python3"
  },
  "language_info": {
   "codemirror_mode": {
    "name": "ipython",
    "version": 3
   },
   "file_extension": ".py",
   "mimetype": "text/x-python",
   "name": "python",
   "nbconvert_exporter": "python",
   "pygments_lexer": "ipython3",
   "version": "3.8.10"
  },
  "orig_nbformat": 4
 },
 "nbformat": 4,
 "nbformat_minor": 2
}
