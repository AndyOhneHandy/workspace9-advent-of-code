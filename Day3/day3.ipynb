{
 "cells": [
  {
   "cell_type": "code",
   "execution_count": 63,
   "metadata": {},
   "outputs": [
    {
     "name": "stdout",
     "output_type": "stream",
     "text": [
      "1131506\n"
     ]
    }
   ],
   "source": [
    "# Part 1\n",
    "\n",
    "# 1110 1101 0101 = 3797\n",
    "# 0001 0010 1010 = 298\n",
    "print(3797*298)"
   ]
  },
  {
   "cell_type": "code",
   "execution_count": 64,
   "metadata": {},
   "outputs": [],
   "source": [
    "# Part 2\n",
    "with open('data.txt', 'r') as file:\n",
    "    data = file.read().replace('\\n', ',')\n",
    "\n",
    "data = data.split(\",\")\n",
    "\n",
    "data.remove(\"\")\n",
    "\n",
    "removelist = [\"R\"]\n",
    "zerolist = [\"0\"]\n"
   ]
  },
  {
   "cell_type": "code",
   "execution_count": 65,
   "metadata": {},
   "outputs": [
    {
     "name": "stdout",
     "output_type": "stream",
     "text": [
      "Oxygen Generator rating: ['111111111001']\n"
     ]
    }
   ],
   "source": [
    "datatmp = data[:]\n",
    "length = len(datatmp)\n",
    "digit = 0\n",
    "\n",
    "while len(datatmp) > 1:\n",
    "    length = len(datatmp)\n",
    "    k = 0\n",
    "    digitlist = []\n",
    "    while k < length:\n",
    "        observation = datatmp[k]\n",
    "        observation = list(observation)[digit]\n",
    "        digitlist += [int(observation)]\n",
    "        k += 1\n",
    "\n",
    "    if sum(digitlist) >= len(digitlist)/2:\n",
    "        z = 0\n",
    "        while z < length:\n",
    "            obstemp = datatmp[z]\n",
    "            if list(obstemp)[digit] == \"0\":\n",
    "                datatmp[z] = \"R\"\n",
    "            z += 1\n",
    "    else:\n",
    "        z = 0\n",
    "        while z < length:\n",
    "            obstemp = datatmp[z]\n",
    "            if list(obstemp)[digit] == \"1\":\n",
    "                datatmp[z] = \"R\"\n",
    "            z += 1\n",
    "\n",
    "\n",
    "    datatmp = [i for i in datatmp if i not in removelist]#list(filter(lambda a: a != \"R\", datatmp))    \n",
    "    digit += 1\n",
    "    if digit == 12:\n",
    "        digit = 0\n",
    "\n",
    "print(f\"Oxygen Generator rating: {datatmp}\")\n"
   ]
  },
  {
   "cell_type": "code",
   "execution_count": 66,
   "metadata": {},
   "outputs": [],
   "source": [
    "\n",
    "with open('data.txt', 'r') as file:\n",
    "    data2 = file.read().replace('\\n', ',')\n",
    "\n",
    "data2 = data2.split(\",\")\n",
    "try:\n",
    "    data2.remove(\"\")\n",
    "except:\n",
    "    pass\n",
    "\n",
    "removelist = [\"R\"]\n",
    "zerolist = [\"0\"]"
   ]
  },
  {
   "cell_type": "code",
   "execution_count": 67,
   "metadata": {},
   "outputs": [
    {
     "name": "stdout",
     "output_type": "stream",
     "text": [
      "CO2 Scrubber Rating: ['011110000011']\n"
     ]
    }
   ],
   "source": [
    "datatmp2 = data2[:]\n",
    "length = len(datatmp2)\n",
    "digit2 = 0\n",
    "validity = 0\n",
    "\n",
    "while len(datatmp2) > 1 and validity == 0:\n",
    "    length = len(datatmp2)\n",
    "    digitlist2 = []\n",
    "    datasave2 = datatmp2[:]\n",
    "    for observation in datatmp2:\n",
    "        observation = observation[digit2]\n",
    "        digitlist2 += [int(observation)]\n",
    "    digitlist2 = [-1 if x == 0 else x for x in digitlist2]\n",
    "    if sum(digitlist2) < 0:\n",
    "        for z, obstemp in enumerate(datatmp2):\n",
    "            if list(obstemp)[digit2] == \"0\":\n",
    "                datatmp2[z] = \"R\"\n",
    "    else:\n",
    "        for z, obstemp in enumerate(datatmp2):\n",
    "            if list(obstemp)[digit2] == \"1\":\n",
    "                datatmp2[z] = \"R\"\n",
    "    \n",
    "    datatmp2 = [i for i in datatmp2 if i not in removelist]\n",
    "    digit2 += 1\n",
    "    if digit2 == 12:\n",
    "        digit2 = 0\n",
    "\n",
    "print(f\"CO2 Scrubber Rating: {datatmp2}\")"
   ]
  },
  {
   "cell_type": "code",
   "execution_count": 69,
   "metadata": {},
   "outputs": [
    {
     "name": "stdout",
     "output_type": "stream",
     "text": [
      "Oxygen Generator Rating: ['111111111001'] \n",
      "CO2 Scrubber Rating: ['011110000011']\n",
      "Final answer: 7863147\n"
     ]
    }
   ],
   "source": [
    "print(f\"Oxygen Generator Rating: {datatmp} \\nCO2 Scrubber Rating: {datatmp2}\")\n",
    "# 4089 & 1923\n",
    "print(f\"Final answer: {4089*1923}\")"
   ]
  }
 ],
 "metadata": {
  "interpreter": {
   "hash": "916dbcbb3f70747c44a77c7bcd40155683ae19c65e1c03b4aa3499c5328201f1"
  },
  "kernelspec": {
   "display_name": "Python 3.8.10 64-bit",
   "language": "python",
   "name": "python3"
  },
  "language_info": {
   "codemirror_mode": {
    "name": "ipython",
    "version": 3
   },
   "file_extension": ".py",
   "mimetype": "text/x-python",
   "name": "python",
   "nbconvert_exporter": "python",
   "pygments_lexer": "ipython3",
   "version": "3.8.10"
  },
  "orig_nbformat": 4
 },
 "nbformat": 4,
 "nbformat_minor": 2
}
